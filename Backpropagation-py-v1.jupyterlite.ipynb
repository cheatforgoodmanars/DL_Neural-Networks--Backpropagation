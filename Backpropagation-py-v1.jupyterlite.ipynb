{
 "cells": [
  {
   "cell_type": "markdown",
   "id": "3399b8df-38dc-4173-9e2d-f73f2af61cc3",
   "metadata": {},
   "source": [
    "<a href=\"https://cognitiveclass.ai\"><img src=\"https://cf-courses-data.s3.us.cloud-object-storage.appdomain.cloud/IBMDeveloperSkillsNetwork-DL0101EN-SkillsNetwork/images/IDSN-logo.png\" width=\"400\"> </a>\n",
    "\n",
    "# BackPropagation\n",
    "\n",
    "Estimated time needed: **30** mins\n"
   ]
  },
  {
   "cell_type": "markdown",
   "id": "771a8e8e-f90a-49ec-9383-446ab9034555",
   "metadata": {},
   "source": [
    "Backpropagation is the key algorithm used for training neural networks, allowing them to learn from data. It is based on the gradient descent optimization technique and works by iteratively adjusting the weights and biases of the network to minimize the error between the predicted and actual outputs.\n",
    " In this lab, we will create a neural network to implement backpropagation for a XOR problem.\n"
   ]
  },
  {
   "cell_type": "markdown",
   "id": "48ee916a-4f59-45c7-906e-d3ef096f5afe",
   "metadata": {},
   "source": [
    "# Objective for this notebook\n",
    "\n",
    "* Train a Neural Network to Solve the XOR Problem\n",
    "* Implement Backpropagation for Neural Network Training\n",
    "* Demonstrate the Use of Activation Functions\n",
    "* Understand the Learning Process Over Multiple Epochs\n",
    "* Demonstrate Weight and Bias Adjustments via Gradient Descent\n",
    "* Evaluate the Model's Performance After Training\n",
    "* Monitor and Analyze the Training Process\n"
   ]
  },
  {
   "cell_type": "markdown",
   "id": "6713223f-a423-4496-b0ea-09763a93b946",
   "metadata": {},
   "source": [
    "<h2>Table of Contents</h2>\n",
    "\n",
    "\n",
    "<div class=\"alert alert-block alert-info\" style=\"margin-top: 20px\">\n",
    "\n",
    "<font size = 4>\n",
    "1. <a href=\"#Import-Required-Libraries\">Import Required Libraries</a><br>\n",
    "2. <a href=\"#Initialize-Inputs\">Initialize Inputs</a><br>\n",
    "3. <a href=\"#Declare-the-network-parameters\">Declare the network parameters</a><br>\n",
    "4. <a href=\"#Define-the-weights\">Define the weights</a><br>  \n",
    "5. <a href=\"#Training-the-Neural-Network\">Training the Neural Network</a><br>  \n",
    "6. <a href=\"#Testing-the-Network\">Testing the Network</a><br>  \n",
    "7. <a href=\"#Plot-the-error\">Plot the error</a><br>  \n",
    "\n",
    "</font>\n",
    "</div>\n"
   ]
  },
  {
   "cell_type": "code",
   "execution_count": null,
   "id": "ab5ef59a-3409-411f-b77e-d57355bb305c",
   "metadata": {},
   "outputs": [],
   "source": [
    "# All Libraries required for this lab are listed below. The libraries pre-installed on Skills Network Labs are commented. \n",
    "# If you run this notebook on a different environment, e.g., your desktop, you may need to uncomment and install certain libraries.\n",
    "\n",
    "#!pip install numpy==1.26.4\n",
    "#!pip install matplotlib==3.5.2"
   ]
  },
  {
   "cell_type": "markdown",
   "id": "1923333c-9497-499f-894d-9832205fdad0",
   "metadata": {},
   "source": [
    "## Import Required Libraries\n"
   ]
  },
  {
   "cell_type": "code",
   "execution_count": 1,
   "id": "d1507ec8-a26e-4905-8134-d8dcda568cd9",
   "metadata": {},
   "outputs": [],
   "source": [
    "# Importing the required library\n",
    "import numpy as np\n",
    "import matplotlib.pyplot as plt"
   ]
  },
  {
   "cell_type": "markdown",
   "id": "0ce708ce-89a1-4967-9033-5fa4820c3ca6",
   "metadata": {},
   "source": [
    "## Initialize Inputs\n",
    "Define the input and expected output for a XOR gate problem\n"
   ]
  },
  {
   "cell_type": "code",
   "execution_count": 2,
   "id": "deef2454-7f80-46cb-ba52-e78dec31f33d",
   "metadata": {},
   "outputs": [],
   "source": [
    "# Defining inputs and expected output (XOR truth table)\n",
    "X = np.array([[0, 0], [0, 1], [1, 0], [1, 1]]).T  # 2x4 matrix, each column is a training example\n",
    "d = np.array([0, 1, 1, 0])  # Expected output for XOR"
   ]
  },
  {
   "cell_type": "markdown",
   "id": "fdd95307-bb1e-4f81-807c-e3cdf6ac0b8b",
   "metadata": {},
   "source": [
    "# Declare the network parameters\n",
    "\n",
    "Define the network parameters such as\n",
    "1. number of input neurons\n",
    "2. hidden layer neurons\n",
    "3. output neurons\n",
    "4. learning rate\n",
    "5. number of epochs\n"
   ]
  },
  {
   "cell_type": "code",
   "execution_count": 3,
   "id": "a33fca43-7772-4792-a63a-a5f374938124",
   "metadata": {},
   "outputs": [],
   "source": [
    "# Network parameters\n",
    "inputSize = 2     # Number of input neurons (x1, x2)\n",
    "hiddenSize = 2    # Number of hidden neurons\n",
    "outputSize = 1    # Number of output neurons\n",
    "lr = 0.1          # Learning rate\n",
    "epochs = 180000   # Number of training epochs"
   ]
  },
  {
   "cell_type": "markdown",
   "id": "d19ff0ff-119f-4990-9f06-7787ea5f3d11",
   "metadata": {},
   "source": [
    "## Define the weights\n",
    "Declare the weights for the neurons. The initial weights are taken as random numbers which are then optimized by the backpropagation algorithm\n"
   ]
  },
  {
   "cell_type": "code",
   "execution_count": 4,
   "id": "6148a2b1-cc3c-4205-b358-b940056b22f5",
   "metadata": {},
   "outputs": [],
   "source": [
    "# Initialize weights and biases randomly within the range [-1, 1]\n",
    "w1 = np.random.rand(hiddenSize, inputSize) * 2 - 1  # Weights from input to hidden layer\n",
    "b1 = np.random.rand(hiddenSize, 1) * 2 - 1         # Bias for hidden layer\n",
    "w2 = np.random.rand(outputSize, hiddenSize) * 2 - 1  # Weights from hidden to output layer\n",
    "b2 = np.random.rand(outputSize, 1) * 2 - 1         # Bias for output layer"
   ]
  },
  {
   "cell_type": "markdown",
   "id": "85253664-1db2-41d7-a6f6-c73c14357b69",
   "metadata": {},
   "source": [
    "## Training the Neural Network\n",
    "\n",
    "The neural network works in 5 stages: \n",
    "1. Forward pass\n",
    "    * The input **X** is multiplied by the weights **w1** and passed through the first layer, followed by the application of the sigmoid or ReLU activation function. This gives the output for the hidden layer.\n",
    "    * The output of the hidden layer is then passed through the second set of weights **w2** to compute the final output. Again, a sigmoid activation function is used to generate the final output **a2**.\n",
    "    \n",
    "2. Error calculation\n",
    "    * The error is computed as the difference between the expected output **(d)** and the actual output **(a2)**.\n",
    "3. Backward pass\n",
    "    * **Output Layer**: The derivative of the sigmoid activation function is applied to the error, producing the gradient for the output layer **(da2)**. This is used to calculate how much the weights in the output layer need to be adjusted.\n",
    "    * **Hidden Layer**: The error is then propagated backward to the hidden layer. The gradient at the hidden layer **(da1)** is computed by taking the dot product of the transpose of the weights **(w2.T)** and the gradient from the output layer. The derivative of the activation function (sigmoid or ReLU) is used to adjust this error.\n",
    "4. Weights and bias updates\n",
    "    * After computing the **gradients (dz1, dz2)**, the **weights (w1, w2)** and **biases (b1, b2)** are updated using the **learning rate (lr)** and **the gradients**. The updates are done to minimize the error and improve the model’s predictions.\n",
    "5. Training:\n",
    "    * This entire process is repeated over many iterations **(epochs)**. During each epoch, the model adjusts its weights and biases to reduce the error. Over time, the network learns to approximate the XOR function.\n",
    "Forward Pass:\n",
    "\n"
   ]
  },
  {
   "cell_type": "code",
   "execution_count": 5,
   "id": "27dc14be-2148-4079-b5dc-75b1964620c3",
   "metadata": {},
   "outputs": [
    {
     "name": "stdout",
     "output_type": "stream",
     "text": [
      "Epoch: 9999, Average error: 0.08370\n",
      "Epoch: 19999, Average error: 0.04378\n",
      "Epoch: 29999, Average error: 0.03282\n",
      "Epoch: 39999, Average error: 0.02725\n",
      "Epoch: 49999, Average error: 0.02376\n",
      "Epoch: 59999, Average error: 0.02132\n",
      "Epoch: 69999, Average error: 0.01949\n",
      "Epoch: 79999, Average error: 0.01805\n",
      "Epoch: 89999, Average error: 0.01689\n",
      "Epoch: 99999, Average error: 0.01592\n",
      "Epoch: 109999, Average error: 0.01510\n",
      "Epoch: 119999, Average error: 0.01440\n",
      "Epoch: 129999, Average error: 0.01378\n",
      "Epoch: 139999, Average error: 0.01323\n",
      "Epoch: 149999, Average error: 0.01275\n",
      "Epoch: 159999, Average error: 0.01231\n",
      "Epoch: 169999, Average error: 0.01191\n",
      "Epoch: 179999, Average error: 0.01155\n"
     ]
    }
   ],
   "source": [
    "# Training the network using backpropagation\n",
    "error_list = []\n",
    "for epoch in range(epochs):\n",
    "    # Forward pass\n",
    "    z1 = np.dot(w1, X) + b1  # Weighted sum for hidden layer\n",
    "    a1 = 1 / (1 + np.exp(-z1))  # Sigmoid activation for hidden layer\n",
    "\n",
    "    z2 = np.dot(w2, a1) + b2  # Weighted sum for output layer\n",
    "    a2 = 1 / (1 + np.exp(-z2))  # Sigmoid activation for output layer\n",
    "\n",
    "    # Error calculation and backpropagation\n",
    "    error = d - a2  # Difference between expected and actual output\n",
    "    da2 = error * (a2 * (1 - a2))  # Derivative for output layer\n",
    "    dz2 = da2  # Gradient for output layer\n",
    "\n",
    "    # Propagate error to hidden layer\n",
    "    da1 = np.dot(w2.T, dz2)  # Gradient for hidden layer\n",
    "    dz1 = da1 * (a1 * (1 - a1))  # Derivative for hidden layer\n",
    "\n",
    "    # Update weights and biases\n",
    "    w2 += lr * np.dot(dz2, a1.T)  # Update weights from hidden to output layer\n",
    "    b2 += lr * np.sum(dz2, axis=1, keepdims=True)  # Update bias for output layer\n",
    "\n",
    "    w1 += lr * np.dot(dz1, X.T)  # Update weights from input to hidden layer\n",
    "    b1 += lr * np.sum(dz1, axis=1, keepdims=True)  # Update bias for hidden layer\n",
    "    if (epoch+1)%10000 == 0:\n",
    "        print(\"Epoch: %d, Average error: %0.05f\"%(epoch, np.average(abs(error))))\n",
    "        error_list.append(np.average(abs(error)))"
   ]
  },
  {
   "cell_type": "markdown",
   "id": "36932dac-e66d-4f9d-bc4f-2eb5f33af367",
   "metadata": {},
   "source": [
    "## Testing the Network\n",
    "After training, you can now test the neural network to verify that it has learned the XOR function and outputs the correct values close to [0, 1, 1, 0]\n"
   ]
  },
  {
   "cell_type": "code",
   "execution_count": 6,
   "id": "c4f6d5e3-8cf7-4324-b1ce-2f7bc81c4195",
   "metadata": {},
   "outputs": [
    {
     "name": "stdout",
     "output_type": "stream",
     "text": [
      "Final output after training: [[0.01227801 0.98937243 0.98937462 0.01268118]]\n",
      "Ground truth [0 1 1 0]\n",
      "Error after training: [[-0.01227805  0.0106276   0.01062541 -0.01268121]]\n",
      "Average error: 0.01155\n"
     ]
    }
   ],
   "source": [
    "# Testing the trained network\n",
    "z1 = np.dot(w1, X) + b1  # Weighted sum for hidden layer\n",
    "a1 = 1 / (1 + np.exp(-z1))  # Sigmoid activation for hidden layer\n",
    "\n",
    "z2 = np.dot(w2, a1) + b2  # Weighted sum for output layer\n",
    "a2 = 1 / (1 + np.exp(-z2))  # Sigmoid activation for output layer\n",
    "\n",
    "# Print results\n",
    "print('Final output after training:', a2)\n",
    "print('Ground truth', d)\n",
    "print('Error after training:', error)\n",
    "print('Average error: %0.05f'%np.average(abs(error)))\n",
    "\n"
   ]
  },
  {
   "cell_type": "markdown",
   "id": "22ffd6cd-c373-4192-b9ec-d588ee83694b",
   "metadata": {},
   "source": [
    "## Plot the error\n",
    "Here, we plot the error as a function of epochs. This shows how error changed over multiple iterations of forward and backward passes and how the network learnt over time\n"
   ]
  },
  {
   "cell_type": "code",
   "execution_count": 7,
   "id": "fa30c9b8-b0d9-4088-83ba-3d3e0b5f60e7",
   "metadata": {},
   "outputs": [
    {
     "data": {
      "image/png": "[encoded data removed]",
      "text/plain": [
       "<Figure size 640x480 with 1 Axes>"
      ]
     },
     "metadata": {},
     "output_type": "display_data"
    }
   ],
   "source": [
    "# Plot error\n",
    "plt.plot(error_list)\n",
    "plt.title('Error')\n",
    "plt.xlabel('Epochs')\n",
    "plt.ylabel('Error')\n",
    "plt.show()"
   ]
  },
  {
   "cell_type": "markdown",
   "id": "b83b0202-3e3f-46ae-9dbc-92b9a09c4ffb",
   "metadata": {},
   "source": [
    "# Practice exercise 1\n"
   ]
  },
  {
   "cell_type": "markdown",
   "id": "c6fc2fbb-2cb0-49af-aec4-357383f0730f",
   "metadata": {},
   "source": [
    "Implement backpropagation for **AND problem** using similar input as used for XOR problem above and plot the error\n"
   ]
  },
  {
   "cell_type": "code",
   "execution_count": 17,
   "id": "a873a7e7-9033-43cb-8308-ed1c59c70c84",
   "metadata": {},
   "outputs": [
    {
     "name": "stdout",
     "output_type": "stream",
     "text": [
      "Epoch: 9999, Average error: 0.00503\n",
      "Epoch: 19999, Average error: 0.00489\n",
      "Epoch: 29999, Average error: 0.00477\n",
      "Epoch: 39999, Average error: 0.00465\n",
      "Epoch: 49999, Average error: 0.00454\n",
      "Epoch: 59999, Average error: 0.00444\n",
      "Epoch: 69999, Average error: 0.00434\n",
      "Epoch: 79999, Average error: 0.00425\n",
      "Epoch: 89999, Average error: 0.00417\n",
      "Epoch: 99999, Average error: 0.00409\n",
      "Epoch: 109999, Average error: 0.00401\n",
      "Epoch: 119999, Average error: 0.00394\n",
      "Epoch: 129999, Average error: 0.00387\n",
      "Epoch: 139999, Average error: 0.00381\n",
      "Epoch: 149999, Average error: 0.00374\n",
      "Epoch: 159999, Average error: 0.00368\n",
      "Epoch: 169999, Average error: 0.00363\n",
      "Epoch: 179999, Average error: 0.00357\n",
      "\n",
      "Final output after training: [[7.50712939e-04 4.35337720e-03 4.26382623e-03 9.95072077e-01]]\n",
      "Ground truth [0 0 0 1]\n",
      "Error after training: [[-0.00075071 -0.00435338 -0.00426383  0.00492793]]\n",
      "Average error: 0.00357\n"
     ]
    },
    {
     "data": {
      "image/png": "[encoded data removed]",
      "text/plain": [
       "<Figure size 640x480 with 1 Axes>"
      ]
     },
     "metadata": {},
     "output_type": "display_data"
    }
   ],
   "source": [
    "# Write your code here\n",
    "X = np.array([\n",
    "    [0,0],  # ==> 0\n",
    "    [0,1],  # ==> 0\n",
    "    [1,0],  # ==> 0\n",
    "    [1,1]   # ==> 1\n",
    "]).T\n",
    "d = np.array([0,0,0,1]) # for AND\n",
    "\n",
    "# inputSize = 2\n",
    "# hiddenSize = 2\n",
    "# outputSize = 1\n",
    "# lr = 0.1\n",
    "# epochs = 180000\n",
    "\n",
    "# w1 = np.random.rand(hiddenSize, inputSize) * 2 - 1\n",
    "# b1 = np.random.rand(hiddenSize, 1) * 2 - 1\n",
    "# w2 = np.random.rand(outputSize, hiddenSize) * 2 - 1\n",
    "# b2 = np.random.rand(outputSize, 1) * 2 - 1\n",
    "\n",
    "# training\n",
    "error_list = []\n",
    "for epoch in range(epochs):\n",
    "    z1 = np.dot(w1, X) + b1\n",
    "    a1 = 1 / (1 + np.exp(-z1))\n",
    "\n",
    "    z2 = np.dot(w2, a1) + b2\n",
    "    a2 = 1 / (1 + np.exp(-z2))\n",
    "\n",
    "    error = d - a2\n",
    "    da2 = error * (a2 * (1-a2))\n",
    "    dz2 = da2\n",
    "\n",
    "    da1 = np.dot(w2.T, dz2)\n",
    "    dz1 = da1 * (a1 * (1- a1))\n",
    "\n",
    "    w2 += lr * np.dot(dz2, a1.T)\n",
    "    b2 += lr * np.sum(dz2, axis=1, keepdims=True)\n",
    "\n",
    "    w1 += lr * np.dot(dz1, X.T)\n",
    "    b1 += lr * np.sum(dz1, axis=1, keepdims=True)\n",
    "    if (epoch+1)%10000 == 0:\n",
    "        print(\"Epoch: %d, Average error: %0.05f\"%(epoch, np.average(abs(error))))\n",
    "        error_list.append(np.average(abs(error)))\n",
    "\n",
    "\n",
    "# testing\n",
    "z1 = np.dot(w1, X) + b1\n",
    "a1 = 1 / ( 1 + np.exp(-z1))\n",
    "\n",
    "z2 = np.dot(w2, a1) + b2\n",
    "a2 = 1 / ( 1 + np.exp(-z2))\n",
    "\n",
    "# Print results\n",
    "print('\\nFinal output after training:', a2)\n",
    "print('Ground truth', d)\n",
    "print('Error after training:', error)\n",
    "print('Average error: %0.05f'%np.average(abs(error)))\n",
    "\n",
    "# Plot error\n",
    "plt.plot(error_list)\n",
    "plt.title('Error')\n",
    "plt.xlabel('Epochs')\n",
    "plt.ylabel('Error')\n",
    "plt.show()\n",
    "\n"
   ]
  },
  {
   "cell_type": "markdown",
   "id": "967ae9be-ecdb-4952-b0b2-740d2204412c",
   "metadata": {},
   "source": [
    "Double-click <b>here</b> for the solution.\n",
    "\n",
    "<!-- Your answer is below:\n",
    "\n",
    "\n",
    "X = np.array([[0, 0], [0, 1], [1, 0], [1, 1]]).T  # 2x4 matrix, each column is a training example\n",
    "d = np.array([0, 0, 0, 1])  # Expected output for AND\n",
    "\n",
    "# Training the network using backpropagation\n",
    "error_list = []\n",
    "for epoch in range(epochs):\n",
    "    # Forward pass\n",
    "    z1 = np.dot(w1, X) + b1  # Weighted sum for hidden layer\n",
    "    a1 = 1 / (1 + np.exp(-z1))  # Sigmoid activation for hidden layer\n",
    "\n",
    "    z2 = np.dot(w2, a1) + b2  # Weighted sum for output layer\n",
    "    a2 = 1 / (1 + np.exp(-z2))  # Sigmoid activation for output layer\n",
    "\n",
    "    # Error calculation and backpropagation\n",
    "    error = d - a2  # Difference between expected and actual output\n",
    "    da2 = error * (a2 * (1 - a2))  # Derivative for output layer\n",
    "    dz2 = da2  # Gradient for output layer\n",
    "\n",
    "    # Propagate error to hidden layer\n",
    "    da1 = np.dot(w2.T, dz2)  # Gradient for hidden layer\n",
    "    dz1 = da1 * (a1 * (1 - a1))  # Derivative for hidden layer\n",
    "\n",
    "    # Update weights and biases\n",
    "    w2 += lr * np.dot(dz2, a1.T)  # Update weights from hidden to output layer\n",
    "    b2 += lr * np.sum(dz2, axis=1, keepdims=True)  # Update bias for output layer\n",
    "\n",
    "    w1 += lr * np.dot(dz1, X.T)  # Update weights from input to hidden layer\n",
    "    b1 += lr * np.sum(dz1, axis=1, keepdims=True)  # Update bias for hidden layer\n",
    "    if (epoch+1)%10000 == 0:\n",
    "        print(\"Epoch: %d, Average error: %0.05f\"%(epoch, np.average(abs(error))))\n",
    "        error_list.append(np.average(abs(error)))\n",
    "\n",
    "\n",
    "# Testing the trained network\n",
    "z1 = np.dot(w1, X) + b1  # Weighted sum for hidden layer\n",
    "a1 = 1 / (1 + np.exp(-z1))  # Sigmoid activation for hidden layer\n",
    "\n",
    "z2 = np.dot(w2, a1) + b2  # Weighted sum for output layer\n",
    "a2 = 1 / (1 + np.exp(-z2))  # Sigmoid activation for output layer\n",
    "\n",
    "# Print results\n",
    "print('\\nFinal output after training:', a2)\n",
    "print('Ground truth', d)\n",
    "print('Error after training:', error)\n",
    "print('Average error: %0.05f'%np.average(abs(error)))\n",
    "\n",
    "# Plot error\n",
    "plt.plot(error_list)\n",
    "plt.title('Error')\n",
    "plt.xlabel('Epochs')\n",
    "plt.ylabel('Error')\n",
    "plt.show()\n",
    "\n",
    "\n",
    "-->\n"
   ]
  },
  {
   "cell_type": "markdown",
   "id": "68c7a63b-757a-4bf2-823d-410d78df51a1",
   "metadata": {},
   "source": [
    "# Practice exercise 2\n"
   ]
  },
  {
   "cell_type": "markdown",
   "id": "0b339719-2453-412f-bac7-04c1567968ec",
   "metadata": {},
   "source": [
    "Now, decrease the learning rate to 0.01 and increase the number of epochs to 1000000 and check the error for XOR gate\n"
   ]
  },
  {
   "cell_type": "code",
   "execution_count": 20,
   "id": "4fd9a48c-507a-4068-b134-861ac246ca42",
   "metadata": {},
   "outputs": [
    {
     "name": "stdout",
     "output_type": "stream",
     "text": [
      "Epoch: 9999, Average error: 0.00796\n",
      "Epoch: 19999, Average error: 0.00793\n",
      "Epoch: 29999, Average error: 0.00791\n",
      "Epoch: 39999, Average error: 0.00788\n",
      "Epoch: 49999, Average error: 0.00785\n",
      "Epoch: 59999, Average error: 0.00783\n",
      "Epoch: 69999, Average error: 0.00780\n",
      "Epoch: 79999, Average error: 0.00778\n",
      "Epoch: 89999, Average error: 0.00775\n",
      "Epoch: 99999, Average error: 0.00773\n",
      "Epoch: 109999, Average error: 0.00770\n",
      "Epoch: 119999, Average error: 0.00768\n",
      "Epoch: 129999, Average error: 0.00766\n",
      "Epoch: 139999, Average error: 0.00763\n",
      "Epoch: 149999, Average error: 0.00761\n",
      "Epoch: 159999, Average error: 0.00759\n",
      "Epoch: 169999, Average error: 0.00756\n",
      "Epoch: 179999, Average error: 0.00754\n",
      "Epoch: 189999, Average error: 0.00752\n",
      "Epoch: 199999, Average error: 0.00749\n",
      "Epoch: 209999, Average error: 0.00747\n",
      "Epoch: 219999, Average error: 0.00745\n",
      "Epoch: 229999, Average error: 0.00743\n",
      "Epoch: 239999, Average error: 0.00741\n",
      "Epoch: 249999, Average error: 0.00739\n",
      "Epoch: 259999, Average error: 0.00736\n",
      "Epoch: 269999, Average error: 0.00734\n",
      "Epoch: 279999, Average error: 0.00732\n",
      "Epoch: 289999, Average error: 0.00730\n",
      "Epoch: 299999, Average error: 0.00728\n",
      "Epoch: 309999, Average error: 0.00726\n",
      "Epoch: 319999, Average error: 0.00724\n",
      "Epoch: 329999, Average error: 0.00722\n",
      "Epoch: 339999, Average error: 0.00720\n",
      "Epoch: 349999, Average error: 0.00718\n",
      "Epoch: 359999, Average error: 0.00716\n",
      "Epoch: 369999, Average error: 0.00714\n",
      "Epoch: 379999, Average error: 0.00712\n",
      "Epoch: 389999, Average error: 0.00710\n",
      "Epoch: 399999, Average error: 0.00709\n",
      "Epoch: 409999, Average error: 0.00707\n",
      "Epoch: 419999, Average error: 0.00705\n",
      "Epoch: 429999, Average error: 0.00703\n",
      "Epoch: 439999, Average error: 0.00701\n",
      "Epoch: 449999, Average error: 0.00699\n",
      "Epoch: 459999, Average error: 0.00698\n",
      "Epoch: 469999, Average error: 0.00696\n",
      "Epoch: 479999, Average error: 0.00694\n",
      "Epoch: 489999, Average error: 0.00692\n",
      "Epoch: 499999, Average error: 0.00691\n",
      "Epoch: 509999, Average error: 0.00689\n",
      "Epoch: 519999, Average error: 0.00687\n",
      "Epoch: 529999, Average error: 0.00686\n",
      "Epoch: 539999, Average error: 0.00684\n",
      "Epoch: 549999, Average error: 0.00682\n",
      "Epoch: 559999, Average error: 0.00681\n",
      "Epoch: 569999, Average error: 0.00679\n",
      "Epoch: 579999, Average error: 0.00677\n",
      "Epoch: 589999, Average error: 0.00676\n",
      "Epoch: 599999, Average error: 0.00674\n",
      "Epoch: 609999, Average error: 0.00673\n",
      "Epoch: 619999, Average error: 0.00671\n",
      "Epoch: 629999, Average error: 0.00669\n",
      "Epoch: 639999, Average error: 0.00668\n",
      "Epoch: 649999, Average error: 0.00666\n",
      "Epoch: 659999, Average error: 0.00665\n",
      "Epoch: 669999, Average error: 0.00663\n",
      "Epoch: 679999, Average error: 0.00662\n",
      "Epoch: 689999, Average error: 0.00660\n",
      "Epoch: 699999, Average error: 0.00659\n",
      "Epoch: 709999, Average error: 0.00657\n",
      "Epoch: 719999, Average error: 0.00656\n",
      "Epoch: 729999, Average error: 0.00654\n",
      "Epoch: 739999, Average error: 0.00653\n",
      "Epoch: 749999, Average error: 0.00652\n",
      "Epoch: 759999, Average error: 0.00650\n",
      "Epoch: 769999, Average error: 0.00649\n",
      "Epoch: 779999, Average error: 0.00647\n",
      "Epoch: 789999, Average error: 0.00646\n",
      "Epoch: 799999, Average error: 0.00645\n",
      "Epoch: 809999, Average error: 0.00643\n",
      "Epoch: 819999, Average error: 0.00642\n",
      "Epoch: 829999, Average error: 0.00640\n",
      "Epoch: 839999, Average error: 0.00639\n",
      "Epoch: 849999, Average error: 0.00638\n",
      "Epoch: 859999, Average error: 0.00636\n",
      "Epoch: 869999, Average error: 0.00635\n",
      "Epoch: 879999, Average error: 0.00634\n",
      "Epoch: 889999, Average error: 0.00633\n",
      "Epoch: 899999, Average error: 0.00631\n",
      "Epoch: 909999, Average error: 0.00630\n",
      "Epoch: 919999, Average error: 0.00629\n",
      "Epoch: 929999, Average error: 0.00627\n",
      "Epoch: 939999, Average error: 0.00626\n",
      "Epoch: 949999, Average error: 0.00625\n",
      "Epoch: 959999, Average error: 0.00624\n",
      "Epoch: 969999, Average error: 0.00622\n",
      "Epoch: 979999, Average error: 0.00621\n",
      "Epoch: 989999, Average error: 0.00620\n",
      "Epoch: 999999, Average error: 0.00619\n",
      "\n",
      "Final output after training: [[0.0054077  0.99386933 0.99387174 0.00708214]]\n",
      "Ground truth [0 1 1 0]\n",
      "Error after training: [[-0.0054077   0.00613067  0.00612826 -0.00708214]]\n",
      "Average error: 0.00619\n"
     ]
    },
    {
     "data": {
      "image/png": "[encoded data removed]",
      "text/plain": [
       "<Figure size 640x480 with 1 Axes>"
      ]
     },
     "metadata": {},
     "output_type": "display_data"
    }
   ],
   "source": [
    "# Write your code here\n",
    "\n",
    "X = np.array([\n",
    "    [0,0],  # ==> 0\n",
    "    [0,1],  # ==> 0\n",
    "    [1,0],  # ==> 0\n",
    "    [1,1]   # ==> 1\n",
    "]).T\n",
    "d = np.array([0,1,1,0]) # for AND\n",
    "\n",
    "# inputSize = 2\n",
    "# hiddenSize = 2\n",
    "# outputSize = 1\n",
    "lr = 0.01\n",
    "epochs = 1000000\n",
    "\n",
    "# w1 = np.random.rand(hiddenSize, inputSize) * 2 - 1\n",
    "# b1 = np.random.rand(hiddenSize, 1) * 2 - 1\n",
    "# w2 = np.random.rand(outputSize, hiddenSize) * 2 - 1\n",
    "# b2 = np.random.rand(outputSize, 1) * 2 - 1\n",
    "\n",
    "# training\n",
    "error_list = []\n",
    "for epoch in range(epochs):\n",
    "    z1 = np.dot(w1, X) + b1\n",
    "    a1 = 1 / (1 + np.exp(-z1))\n",
    "\n",
    "    z2 = np.dot(w2, a1) + b2\n",
    "    a2 = 1 / (1 + np.exp(-z2))\n",
    "\n",
    "    error = d - a2\n",
    "    da2 = error * (a2 * (1-a2))\n",
    "    dz2 = da2\n",
    "\n",
    "    da1 = np.dot(w2.T, dz2)\n",
    "    dz1 = da1 * (a1 * (1- a1))\n",
    "\n",
    "    w2 += lr * np.dot(dz2, a1.T)\n",
    "    b2 += lr * np.sum(dz2, axis=1, keepdims=True)\n",
    "\n",
    "    w1 += lr * np.dot(dz1, X.T)\n",
    "    b1 += lr * np.sum(dz1, axis=1, keepdims=True)\n",
    "    if (epoch+1)%10000 == 0:\n",
    "        print(\"Epoch: %d, Average error: %0.05f\"%(epoch, np.average(abs(error))))\n",
    "        error_list.append(np.average(abs(error)))\n",
    "\n",
    "\n",
    "# testing\n",
    "z1 = np.dot(w1, X) + b1\n",
    "a1 = 1 / ( 1 + np.exp(-z1))\n",
    "\n",
    "z2 = np.dot(w2, a1) + b2\n",
    "a2 = 1 / ( 1 + np.exp(-z2))\n",
    "\n",
    "# Print results\n",
    "print('\\nFinal output after training:', a2)\n",
    "print('Ground truth', d)\n",
    "print('Error after training:', error)\n",
    "print('Average error: %0.05f'%np.average(abs(error)))\n",
    "\n",
    "# Plot error\n",
    "plt.plot(error_list)\n",
    "plt.title('Error')\n",
    "plt.xlabel('Epochs')\n",
    "plt.ylabel('Error')\n",
    "plt.show()\n"
   ]
  },
  {
   "cell_type": "markdown",
   "id": "e24f7a72-99de-4b02-ba4f-215dcf14d651",
   "metadata": {},
   "source": [
    "Double-click <b>here</b> for the solution.\n",
    "\n",
    "<!-- Your answer is below:\n",
    "\n",
    "lr = 0.01         # Learning rate\n",
    "epochs = 1000000   # Number of training epochs\n",
    "\n",
    "\n",
    "# Defining inputs and expected output (XOR truth table)\n",
    "X = np.array([[0, 0], [0, 1], [1, 0], [1, 1]]).T  # 2x4 matrix, each column is a training example\n",
    "d = np.array([0, 1, 1, 0])  # Expected output for XOR\n",
    "\n",
    "\n",
    "# Training the network using backpropagation\n",
    "error_list = []\n",
    "for epoch in range(epochs):\n",
    "    # Forward pass\n",
    "    z1 = np.dot(w1, X) + b1  # Weighted sum for hidden layer\n",
    "    a1 = 1 / (1 + np.exp(-z1))  # Sigmoid activation for hidden layer\n",
    "\n",
    "    z2 = np.dot(w2, a1) + b2  # Weighted sum for output layer\n",
    "    a2 = 1 / (1 + np.exp(-z2))  # Sigmoid activation for output layer\n",
    "\n",
    "    # Error calculation and backpropagation\n",
    "    error = d - a2  # Difference between expected and actual output\n",
    "    da2 = error * (a2 * (1 - a2))  # Derivative for output layer\n",
    "    dz2 = da2  # Gradient for output layer\n",
    "\n",
    "    # Propagate error to hidden layer\n",
    "    da1 = np.dot(w2.T, dz2)  # Gradient for hidden layer\n",
    "    dz1 = da1 * (a1 * (1 - a1))  # Derivative for hidden layer\n",
    "\n",
    "    # Update weights and biases\n",
    "    w2 += lr * np.dot(dz2, a1.T)  # Update weights from hidden to output layer\n",
    "    b2 += lr * np.sum(dz2, axis=1, keepdims=True)  # Update bias for output layer\n",
    "\n",
    "    w1 += lr * np.dot(dz1, X.T)  # Update weights from input to hidden layer\n",
    "    b1 += lr * np.sum(dz1, axis=1, keepdims=True)  # Update bias for hidden layer\n",
    "    if (epoch+1)%10000 == 0:\n",
    "        print(\"Epoch: %d, Average error: %0.05f\"%(epoch, np.average(abs(error))))\n",
    "        error_list.append(np.average(abs(error)))\n",
    "\n",
    "\n",
    "# Testing the trained network\n",
    "z1 = np.dot(w1, X) + b1  # Weighted sum for hidden layer\n",
    "a1 = 1 / (1 + np.exp(-z1))  # Sigmoid activation for hidden layer\n",
    "\n",
    "z2 = np.dot(w2, a1) + b2  # Weighted sum for output layer\n",
    "a2 = 1 / (1 + np.exp(-z2))  # Sigmoid activation for output layer\n",
    "\n",
    "# Print results\n",
    "print('\\nFinal output after training:', a2)\n",
    "print('Ground truth', d)\n",
    "print('Error after training:', error)\n",
    "print('Average error: %0.05f'%np.average(abs(error)))\n",
    "\n",
    "\n",
    "# Plot error\n",
    "plt.plot(error_list)\n",
    "plt.title('Error')\n",
    "plt.xlabel('Epochs')\n",
    "plt.ylabel('Error')\n",
    "plt.show()\n",
    "\n",
    "\n",
    "-->\n"
   ]
  },
  {
   "cell_type": "markdown",
   "id": "486fc03c-783d-4aa6-b3dc-39deced5db99",
   "metadata": {},
   "source": [
    "## Thank you for completing this lab!\n",
    "\n",
    "This notebook was created by [Aman Aggarwal](https://www.linkedin.com/in/aggarwal-aman/). I hope you found this lab interesting and educational. Feel free to contact me if you have any questions!\n"
   ]
  },
  {
   "cell_type": "markdown",
   "id": "ae65365e-a9c9-47d2-8028-084cf57b024f",
   "metadata": {},
   "source": [
    "\n",
    "<!--\n",
    "## Change Log\n",
    "\n",
    "|  Date (YYYY-MM-DD) |  Version | Changed By  |  Change Description |\n",
    "|---|---|---|---|\n",
    "| 2024-11-20  | 1.0  | Aman  |  Created the lab |\n",
    "<hr>\n",
    "\n",
    "## <h3 align=\"center\"> © IBM Corporation. All rights reserved. <h3/>\n"
   ]
  },
  {
   "cell_type": "markdown",
   "id": "326e9686-7ff3-4c10-9cb0-9887dfec2451",
   "metadata": {},
   "source": [
    "## <h3 align=\"center\"> &#169; IBM Corporation. All rights reserved. <h3/>\n"
   ]
  }
 ],
 "metadata": {
  "kernelspec": {
   "display_name": "Python 3",
   "language": "python",
   "name": "python3"
  },
  "language_info": {
   "codemirror_mode": {
    "name": "ipython",
    "version": 3
   },
   "file_extension": ".py",
   "mimetype": "text/x-python",
   "name": "python",
   "nbconvert_exporter": "python",
   "pygments_lexer": "ipython3",
   "version": "3.12.6"
  },
  "prev_pub_hash": "947a6ec452597a91eaa4fa6ece0a600859c0684a4192c56e37ddb58e207db692"
 },
 "nbformat": 4,
 "nbformat_minor": 4
}
